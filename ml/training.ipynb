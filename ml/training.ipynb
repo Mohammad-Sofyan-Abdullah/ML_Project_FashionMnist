{
  "cells": [
    {
      "cell_type": "code",
      "execution_count": 1,
      "metadata": {
        "id": "t98ZGWGLq6fg"
      },
      "outputs": [],
      "source": [
        "import numpy as np\n",
        "import matplotlib.pyplot as plt\n",
        "import tensorflow as tf\n",
        "from tensorflow.keras import layers, models\n",
        "from sklearn.svm import SVC\n",
        "from sklearn.preprocessing import StandardScaler\n",
        "from sklearn.metrics import classification_report, accuracy_score\n",
        "from sklearn.model_selection import train_test_split\n",
        "import joblib\n",
        "import mlflow\n",
        "import mlflow.keras\n",
        "import mlflow.sklearn"
      ]
    },
    {
      "cell_type": "code",
      "execution_count": 2,
      "metadata": {
        "id": "acr5tqaIB7KL"
      },
      "outputs": [],
      "source": [
        "(x_train, y_train), (x_test, y_test) = tf.keras.datasets.fashion_mnist.load_data()\n",
        "x_train = x_train / 255.0\n",
        "x_test = x_test / 255.0"
      ]
    },
    {
      "cell_type": "code",
      "execution_count": 3,
      "metadata": {
        "id": "F-qCOPIMB98V"
      },
      "outputs": [],
      "source": [
        "x_train_cnn = np.expand_dims(x_train, -1)  # shape: (N, 28, 28, 1)\n",
        "x_test_cnn = np.expand_dims(x_test, -1)"
      ]
    },
    {
      "cell_type": "code",
      "execution_count": 4,
      "metadata": {
        "colab": {
          "base_uri": "https://localhost:8080/"
        },
        "id": "W2_8xl1ACAbn",
        "outputId": "840fd750-4950-455b-ffe0-da5588982d51"
      },
      "outputs": [
        {
          "name": "stderr",
          "output_type": "stream",
          "text": [
            "c:\\Users\\DELL\\AppData\\Local\\Programs\\Python\\Python311\\Lib\\site-packages\\keras\\src\\layers\\convolutional\\base_conv.py:113: UserWarning: Do not pass an `input_shape`/`input_dim` argument to a layer. When using Sequential models, prefer using an `Input(shape)` object as the first layer in the model instead.\n",
            "  super().__init__(activity_regularizer=activity_regularizer, **kwargs)\n"
          ]
        }
      ],
      "source": [
        "cnn_model = models.Sequential([\n",
        "    layers.Conv2D(32, (3, 3), activation='relu', input_shape=(28, 28, 1)),\n",
        "    layers.MaxPooling2D((2, 2)),\n",
        "    layers.Conv2D(64, (3, 3), activation='relu'),\n",
        "    layers.MaxPooling2D((2, 2)),\n",
        "    layers.Flatten(),\n",
        "    layers.Dense(64, activation='relu'),\n",
        "    layers.Dense(10, activation='softmax')\n",
        "])"
      ]
    },
    {
      "cell_type": "code",
      "execution_count": 5,
      "metadata": {
        "colab": {
          "base_uri": "https://localhost:8080/"
        },
        "id": "iCGEGGXDCBHE",
        "outputId": "8ca95432-93f9-44d6-dc8b-3ab9fd827b32"
      },
      "outputs": [],
      "source": [
        "cnn_model.compile(optimizer='adam',\n",
        "                  loss='sparse_categorical_crossentropy',\n",
        "                  metrics=['accuracy'])"
      ]
    },
    {
      "cell_type": "code",
      "execution_count": 7,
      "metadata": {
        "colab": {
          "base_uri": "https://localhost:8080/"
        },
        "id": "DlHaBfVdCFX6",
        "outputId": "b9803622-7887-4aaf-fca2-deb44d5ebc07"
      },
      "outputs": [
        {
          "name": "stderr",
          "output_type": "stream",
          "text": [
            "2025/06/01 21:14:50 INFO mlflow.tracking.fluent: Experiment with name 'Fashion_MNIST_Classifier' does not exist. Creating a new experiment.\n"
          ]
        },
        {
          "name": "stdout",
          "output_type": "stream",
          "text": [
            "Epoch 1/5\n",
            "\u001b[1m844/844\u001b[0m \u001b[32m━━━━━━━━━━━━━━━━━━━━\u001b[0m\u001b[37m\u001b[0m \u001b[1m12s\u001b[0m 13ms/step - accuracy: 0.7330 - loss: 0.7441 - val_accuracy: 0.8652 - val_loss: 0.3815\n",
            "Epoch 2/5\n",
            "\u001b[1m844/844\u001b[0m \u001b[32m━━━━━━━━━━━━━━━━━━━━\u001b[0m\u001b[37m\u001b[0m \u001b[1m11s\u001b[0m 13ms/step - accuracy: 0.8738 - loss: 0.3546 - val_accuracy: 0.8757 - val_loss: 0.3339\n",
            "Epoch 3/5\n",
            "\u001b[1m844/844\u001b[0m \u001b[32m━━━━━━━━━━━━━━━━━━━━\u001b[0m\u001b[37m\u001b[0m \u001b[1m11s\u001b[0m 13ms/step - accuracy: 0.8894 - loss: 0.3030 - val_accuracy: 0.8887 - val_loss: 0.3014\n",
            "Epoch 4/5\n",
            "\u001b[1m844/844\u001b[0m \u001b[32m━━━━━━━━━━━━━━━━━━━━\u001b[0m\u001b[37m\u001b[0m \u001b[1m12s\u001b[0m 15ms/step - accuracy: 0.9017 - loss: 0.2715 - val_accuracy: 0.8957 - val_loss: 0.2888\n",
            "Epoch 5/5\n",
            "\u001b[1m844/844\u001b[0m \u001b[32m━━━━━━━━━━━━━━━━━━━━\u001b[0m\u001b[37m\u001b[0m \u001b[1m10s\u001b[0m 12ms/step - accuracy: 0.9121 - loss: 0.2440 - val_accuracy: 0.9013 - val_loss: 0.2726\n",
            "\u001b[1m313/313\u001b[0m \u001b[32m━━━━━━━━━━━━━━━━━━━━\u001b[0m\u001b[37m\u001b[0m \u001b[1m1s\u001b[0m 4ms/step - accuracy: 0.8955 - loss: 0.2952\n"
          ]
        },
        {
          "name": "stderr",
          "output_type": "stream",
          "text": [
            "2025/06/01 21:15:48 WARNING mlflow.keras.save: You are saving a Keras model without specifying model signature.\n",
            "2025/06/01 21:15:58 WARNING mlflow.models.model: Model logged without a signature and input example. Please set `input_example` parameter when logging the model to auto infer the model signature.\n",
            "WARNING:absl:You are saving your model as an HDF5 file via `model.save()` or `keras.saving.save_model(model)`. This file format is considered legacy. We recommend using instead the native Keras format, e.g. `model.save('my_model.keras')` or `keras.saving.save_model(model, 'my_model.keras')`. \n"
          ]
        }
      ],
      "source": [
        "mlflow.set_experiment(\"Fashion_MNIST_Classifier\")\n",
        "\n",
        "with mlflow.start_run(run_name=\"CNN_Fashion_MNIST\"):\n",
        "    cnn_model.fit(x_train_cnn, y_train, epochs=5, batch_size=64, validation_split=0.1)\n",
        "    test_loss, test_acc = cnn_model.evaluate(x_test_cnn, y_test)\n",
        "    \n",
        "    mlflow.log_param(\"model_type\", \"CNN\")\n",
        "    mlflow.log_metric(\"test_accuracy\", test_acc)\n",
        "    mlflow.keras.log_model(cnn_model, \"cnn_model\")\n",
        "    \n",
        "    # Save manually too\n",
        "    cnn_model.save(\"model_cnn.h5\")\n"
      ]
    },
    {
      "cell_type": "code",
      "execution_count": 8,
      "metadata": {
        "colab": {
          "base_uri": "https://localhost:8080/"
        },
        "id": "ZfTphlr6CL-J",
        "outputId": "dae44fa9-2676-44e4-9d7e-36140630504a"
      },
      "outputs": [
        {
          "name": "stdout",
          "output_type": "stream",
          "text": [
            "CNN Test Accuracy: 0.8950\n"
          ]
        }
      ],
      "source": [
        "print(f\"CNN Test Accuracy: {test_acc:.4f}\")"
      ]
    },
    {
      "cell_type": "code",
      "execution_count": 9,
      "metadata": {
        "colab": {
          "base_uri": "https://localhost:8080/"
        },
        "id": "c-CIQlolCOwB",
        "outputId": "f4dae00a-e9d4-4226-c22e-7e9d9f3dae7a"
      },
      "outputs": [],
      "source": [
        "x_train_flat = x_train.reshape(-1, 28 * 28)\n",
        "x_test_flat = x_test.reshape(-1, 28 * 28)"
      ]
    },
    {
      "cell_type": "code",
      "execution_count": 10,
      "metadata": {},
      "outputs": [],
      "source": [
        "scaler = StandardScaler()\n",
        "x_train_scaled = scaler.fit_transform(x_train_flat)\n",
        "x_test_scaled = scaler.transform(x_test_flat)"
      ]
    },
    {
      "cell_type": "code",
      "execution_count": 11,
      "metadata": {},
      "outputs": [],
      "source": [
        "x_train_small, _, y_train_small, _ = train_test_split(\n",
        "    x_train_scaled, y_train, train_size=10000, stratify=y_train, random_state=42)\n",
        "\n",
        "svm = SVC(kernel='rbf', gamma='scale')"
      ]
    },
    {
      "cell_type": "code",
      "execution_count": 12,
      "metadata": {},
      "outputs": [
        {
          "name": "stderr",
          "output_type": "stream",
          "text": [
            "2025/06/01 21:18:24 WARNING mlflow.models.model: Model logged without a signature and input example. Please set `input_example` parameter when logging the model to auto infer the model signature.\n"
          ]
        },
        {
          "name": "stdout",
          "output_type": "stream",
          "text": [
            "SVM Accuracy: 0.8522\n"
          ]
        }
      ],
      "source": [
        "with mlflow.start_run(run_name=\"SVM_Fashion_MNIST\"):\n",
        "    svm.fit(x_train_small, y_train_small)\n",
        "    y_pred = svm.predict(x_test_scaled)\n",
        "    acc = accuracy_score(y_test, y_pred)\n",
        "    \n",
        "    mlflow.log_param(\"model_type\", \"SVM\")\n",
        "    mlflow.log_param(\"kernel\", \"rbf\")\n",
        "    mlflow.log_metric(\"test_accuracy\", acc)\n",
        "    mlflow.sklearn.log_model(svm, \"svm_model\")\n",
        "\n",
        "    joblib.dump(svm, \"model_svm.pkl\")\n",
        "    joblib.dump(scaler, \"scaler_svm.pkl\")  # Save scaler for preprocessing during inference\n",
        "\n",
        "print(\"SVM Accuracy:\", acc)"
      ]
    }
  ],
  "metadata": {
    "accelerator": "GPU",
    "colab": {
      "gpuType": "T4",
      "provenance": []
    },
    "kernelspec": {
      "display_name": "Python 3",
      "name": "python3"
    },
    "language_info": {
      "codemirror_mode": {
        "name": "ipython",
        "version": 3
      },
      "file_extension": ".py",
      "mimetype": "text/x-python",
      "name": "python",
      "nbconvert_exporter": "python",
      "pygments_lexer": "ipython3",
      "version": "3.11.0"
    }
  },
  "nbformat": 4,
  "nbformat_minor": 0
}
